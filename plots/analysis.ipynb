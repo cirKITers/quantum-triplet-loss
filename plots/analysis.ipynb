{
 "cells": [
  {
   "cell_type": "code",
   "execution_count": 1,
   "metadata": {},
   "outputs": [],
   "source": [
    "%matplotlib inline\n",
    "import matplotlib\n",
    "import numpy as np\n",
    "import matplotlib.pyplot as plt\n",
    "import json"
   ]
  },
  {
   "cell_type": "markdown",
   "metadata": {},
   "source": [
    "### Load data"
   ]
  },
  {
   "cell_type": "code",
   "execution_count": 2,
   "metadata": {},
   "outputs": [
    {
     "name": "stdout",
     "output_type": "stream",
     "text": [
      "accuracys (41, 2)\n",
      "dbis (41, 2)\n",
      "losses (2001,)\n",
      "gradients (2001,)\n",
      "params (5, 4, 2)\n",
      "Max Accuracy 0.894\n",
      "Min DBI 0.6287032607155446\n"
     ]
    },
    {
     "data": {
      "text/plain": [
       "{'dataset': 'mnist',\n",
       " 'qubits': 4,\n",
       " 'data_qubits': 4,\n",
       " 'output_qubits': 2,\n",
       " 'layers': 5,\n",
       " 'train_size': 2500,\n",
       " 'test_size': 500,\n",
       " 'classes': [3, 6],\n",
       " 'steps': 2000,\n",
       " 'test_every': 50,\n",
       " 'grads_every': 1,\n",
       " 'start_stepsize': 0.005,\n",
       " 'update_sz_every': 35000,\n",
       " 'sz_factor': 0.1,\n",
       " 'alpha': 1.0,\n",
       " 'shots': None,\n",
       " 'seed': 1337}"
      ]
     },
     "execution_count": 2,
     "metadata": {},
     "output_type": "execute_result"
    }
   ],
   "source": [
    "date = \"Final_MNIST/2022-03-28_14-08-05_TL_2_classes\"\n",
    "\n",
    "data_file = f\"../trainings/{date}.npz\"\n",
    "data = np.load(data_file)\n",
    "for key, value in data.items():\n",
    "    print(key, value.shape)\n",
    "    \n",
    "hp_file = f\"../trainings/{date}.json\"\n",
    "with open(hp_file) as json_file:\n",
    "    hp = json.load(json_file)\n",
    "\n",
    "print(\"Max Accuracy\", max(data[\"accuracys\"][:, 1]))\n",
    "\n",
    "try:\n",
    "    print(\"Min DBI\", min(data[\"dbis\"][:, 1]))\n",
    "except:\n",
    "    pass\n",
    "hp"
   ]
  },
  {
   "cell_type": "markdown",
   "metadata": {},
   "source": [
    "### Load data 2"
   ]
  },
  {
   "cell_type": "code",
   "execution_count": 3,
   "metadata": {},
   "outputs": [
    {
     "name": "stdout",
     "output_type": "stream",
     "text": [
      "accuracys (41, 2)\n",
      "losses (2001,)\n",
      "gradients (2001,)\n",
      "params (5, 4, 2)\n",
      "Max Accuracy 0.896\n"
     ]
    },
    {
     "data": {
      "text/plain": [
       "{'dataset': 'mnist',\n",
       " 'qubits': 4,\n",
       " 'data_qubits': 4,\n",
       " 'output_qubits': 2,\n",
       " 'layers': 5,\n",
       " 'train_size': 2500,\n",
       " 'test_size': 500,\n",
       " 'classes': [3, 6],\n",
       " 'steps': 2000,\n",
       " 'test_every': 50,\n",
       " 'grads_every': 1,\n",
       " 'start_stepsize': 0.005,\n",
       " 'update_sz_every': 35000,\n",
       " 'sz_factor': 0.1,\n",
       " 'alpha': 1.0,\n",
       " 'shots': None,\n",
       " 'seed': 1337}"
      ]
     },
     "execution_count": 3,
     "metadata": {},
     "output_type": "execute_result"
    }
   ],
   "source": [
    "date_2 = \"Final_MNIST/2022-03-28_15-15-39_CE_2_classes\"\n",
    "\n",
    "data_file_2 = f\"../trainings/{date_2}.npz\"\n",
    "data_2 = np.load(data_file_2)\n",
    "for key, value in data_2.items():\n",
    "    print(key, value.shape)\n",
    "    \n",
    "hp_file_2 = f\"../trainings/{date_2}.json\"\n",
    "with open(hp_file_2) as json_file:\n",
    "    hp_2 = json.load(json_file)\n",
    "\n",
    "print(\"Max Accuracy\", max(data_2[\"accuracys\"][:, 1]))\n",
    "\n",
    "try:\n",
    "    print(\"Min DBI\", min(data_2[\"dbis\"][:, 1]))\n",
    "except:\n",
    "    pass\n",
    "\n",
    "hp_2"
   ]
  },
  {
   "cell_type": "markdown",
   "metadata": {},
   "source": [
    "### Smooth the loss with a sliding window"
   ]
  },
  {
   "cell_type": "code",
   "execution_count": 17,
   "metadata": {},
   "outputs": [],
   "source": [
    "smoothed_losses = np.zeros(data[\"losses\"].shape)\n",
    "window_size = 150\n",
    "\n",
    "for i in range(len(data[\"losses\"])):\n",
    "    if i < window_size/2:  \n",
    "        smoothed_losses[i] = np.average(data[\"losses\"][i:i+window_size])\n",
    "    elif i < len(data[\"losses\"]) - window_size/2:\n",
    "        smoothed_losses[i] = np.average(data[\"losses\"][i-(window_size//2):i+(window_size//2)])    \n",
    "    else:\n",
    "        smoothed_losses[i] = np.average(data[\"losses\"][i-window_size:i])"
   ]
  },
  {
   "cell_type": "code",
   "execution_count": 18,
   "metadata": {},
   "outputs": [],
   "source": [
    "smoothed_losses_2 = np.zeros(data_2[\"losses\"].shape)\n",
    "window_size = 150\n",
    "\n",
    "for i in range(len(data_2[\"losses\"])):\n",
    "    if i < window_size/2:  \n",
    "        smoothed_losses_2[i] = np.average(data_2[\"losses\"][i:i+window_size])\n",
    "    elif i < len(data_2[\"losses\"]) - window_size/2:\n",
    "        smoothed_losses_2[i] = np.average(data_2[\"losses\"][i-(window_size//2):i+(window_size//2)])    \n",
    "    else:\n",
    "        smoothed_losses_2[i] = np.average(data_2[\"losses\"][i-window_size:i])"
   ]
  },
  {
   "cell_type": "markdown",
   "metadata": {},
   "source": [
    "### Smooth the gradients with a sliding window"
   ]
  },
  {
   "cell_type": "code",
   "execution_count": 6,
   "metadata": {},
   "outputs": [],
   "source": [
    "smoothed_gradients = np.zeros(data[\"gradients\"].shape)\n",
    "window_size = 50\n",
    "\n",
    "for i in range(len(data[\"gradients\"])):\n",
    "    if i < window_size/2:  \n",
    "        smoothed_gradients[i] = np.average(data[\"gradients\"][i:i+window_size])\n",
    "    elif i < len(data[\"gradients\"]) - window_size/2:\n",
    "        smoothed_gradients[i] = np.average(data[\"gradients\"][i-(window_size//2):i+(window_size//2)])    \n",
    "    else:\n",
    "        smoothed_gradients[i] = np.average(data[\"gradients\"][i-window_size:i])"
   ]
  },
  {
   "cell_type": "code",
   "execution_count": 7,
   "metadata": {},
   "outputs": [],
   "source": [
    "smoothed_gradients_2 = np.zeros(data_2[\"gradients\"].shape)\n",
    "window_size = 50\n",
    "\n",
    "for i in range(len(data_2[\"gradients\"])):\n",
    "    if i < window_size/2:  \n",
    "        smoothed_gradients_2[i] = np.average(data_2[\"gradients\"][i:i+window_size])\n",
    "    elif i < len(data_2[\"gradients\"]) - window_size/2:\n",
    "        smoothed_gradients_2[i] = np.average(data_2[\"gradients\"][i-(window_size//2):i+(window_size//2)])    \n",
    "    else:\n",
    "        smoothed_gradients_2[i] = np.average(data_2[\"gradients\"][i-window_size:i])"
   ]
  },
  {
   "cell_type": "markdown",
   "metadata": {},
   "source": [
    "### Plot Training"
   ]
  },
  {
   "cell_type": "code",
   "execution_count": 8,
   "metadata": {},
   "outputs": [],
   "source": [
    "title = f\"Qubits: {hp['qubits']}, \" + \\\n",
    "        f\"Layers: {hp['layers']}, \" + \\\n",
    "        f\"Classes: {hp['classes']}, \" + \\\n",
    "        f\"Output_dim: {hp['output_qubits']}\""
   ]
  },
  {
   "cell_type": "markdown",
   "metadata": {},
   "source": [
    "#### Accuracy"
   ]
  },
  {
   "cell_type": "code",
   "execution_count": 9,
   "metadata": {},
   "outputs": [
    {
     "data": {
      "image/png": "[encoded data removed]",
      "text/plain": [
       "<Figure size 288x288 with 1 Axes>"
      ]
     },
     "metadata": {
      "needs_background": "light"
     },
     "output_type": "display_data"
    }
   ],
   "source": [
    "# Triplet\n",
    "plt.figure(figsize=(4,4))\n",
    "\n",
    "plt.plot(data[\"accuracys\"][:, 0], data[\"accuracys\"][:, 1], label=\"Triplet Loss\", color=\"firebrick\", linewidth=2)\n",
    "plt.plot(data_2[\"accuracys\"][:, 0], data_2[\"accuracys\"][:, 1], label=\"CE Loss\", color=\"steelblue\", linewidth=2)\n",
    "\n",
    "# plt.title(\"Accuracys\", fontsize=12)\n",
    "plt.legend()\n",
    "plt.xlabel(\"Steps\", fontsize=12)\n",
    "plt.savefig(\"Accuracy.png\", dpi=1000, bbox_inches='tight')\n",
    "plt.show()"
   ]
  },
  {
   "cell_type": "markdown",
   "metadata": {},
   "source": [
    "#### Loss"
   ]
  },
  {
   "cell_type": "code",
   "execution_count": 19,
   "metadata": {},
   "outputs": [
    {
     "data": {
      "image/png": "[encoded data removed]",
      "text/plain": [
       "<Figure size 288x288 with 1 Axes>"
      ]
     },
     "metadata": {
      "needs_background": "light"
     },
     "output_type": "display_data"
    }
   ],
   "source": [
    "plt.figure(figsize=(4,4))\n",
    "\n",
    "plt.plot(np.arange(len(smoothed_losses)), smoothed_losses, label=\"Triplet Loss\", color=\"firebrick\")\n",
    "plt.plot(np.arange(len(smoothed_losses_2)), smoothed_losses_2, label=\"CE Loss\", color=\"steelblue\")\n",
    "\n",
    "# plt.title(\"Loss\", fontsize=12)\n",
    "\n",
    "plt.legend()\n",
    "plt.xlabel(\"Steps\", fontsize=12)\n",
    "plt.savefig(\"Loss.png\", dpi=1000, bbox_inches='tight')\n",
    "plt.show()"
   ]
  },
  {
   "cell_type": "markdown",
   "metadata": {},
   "source": [
    "#### Gradients"
   ]
  },
  {
   "cell_type": "code",
   "execution_count": 12,
   "metadata": {},
   "outputs": [
    {
     "data": {
      "image/png": "[encoded data removed]",
      "text/plain": [
       "<Figure size 288x288 with 1 Axes>"
      ]
     },
     "metadata": {
      "needs_background": "light"
     },
     "output_type": "display_data"
    }
   ],
   "source": [
    "plt.figure(figsize=(4,4))\n",
    "\n",
    "plt.plot(np.arange(len(smoothed_gradients)), smoothed_gradients, label=\"Triplet Loss\", color=\"firebrick\")\n",
    "plt.plot(np.arange(len(smoothed_gradients_2)), smoothed_gradients_2, label=\"CE Loss\", color=\"steelblue\")\n",
    "\n",
    "\n",
    "# plt.title(\"Gradients\", fontsize=12)\n",
    "\n",
    "plt.legend()\n",
    "plt.xlabel(\"Steps\", fontsize=12)\n",
    "plt.savefig(\"Gradients.png\", dpi=1000, bbox_inches='tight')\n",
    "plt.show()"
   ]
  },
  {
   "cell_type": "markdown",
   "metadata": {},
   "source": [
    "#### DBI"
   ]
  },
  {
   "cell_type": "code",
   "execution_count": 13,
   "metadata": {},
   "outputs": [
    {
     "data": {
      "image/png": "[encoded data removed]",
      "text/plain": [
       "<Figure size 288x288 with 1 Axes>"
      ]
     },
     "metadata": {
      "needs_background": "light"
     },
     "output_type": "display_data"
    }
   ],
   "source": [
    "plt.figure(figsize=(4,4))\n",
    "\n",
    "plt.plot(data[\"dbis\"][:, 0], data[\"dbis\"][:, 1], label=\"Triplet Loss\", color=\"firebrick\", linewidth=2)\n",
    "\n",
    "# plt.title(\"DBI\", fontsize=12)\n",
    "\n",
    "plt.ylim(ymax = 2, ymin = 0)\n",
    "plt.legend()\n",
    "plt.xlabel(\"Steps\", fontsize=12)\n",
    "plt.savefig(\"DBI.png\", dpi=1000, bbox_inches='tight')\n",
    "plt.show()"
   ]
  },
  {
   "cell_type": "markdown",
   "metadata": {},
   "source": [
    "### Plot Loss Buckets"
   ]
  },
  {
   "cell_type": "code",
   "execution_count": null,
   "metadata": {},
   "outputs": [],
   "source": [
    "bucket_size = 50\n",
    "n_buckets = data[\"gradients\"].shape[0] // bucket_size\n",
    "grad_buckets = np.array_split(data[\"gradients\"][:n_buckets*bucket_size], n_buckets)\n",
    "\n",
    "zeros = []\n",
    "\n",
    "for b in grad_buckets:\n",
    "    zeros.append((b == 0).sum()/50)\n",
    "\n",
    "x = []\n",
    "for i in range(0, (n_buckets)*bucket_size, bucket_size):\n",
    "    x.append(i + bucket_size)  \n",
    "\n",
    "fig, ax1 = plt.subplots()\n",
    "fig.set_size_inches(18.5, 10.5, forward=True)\n",
    "ax2=ax1.twinx()\n",
    "\n",
    "ax1.set_zorder(1)  # default zorder is 0 for ax1 and ax2\n",
    "ax1.patch.set_visible(False)  # prevents ax1 from hiding ax2\n",
    "\n",
    "ax1.plot(np.arange(len(smoothed_losses)), smoothed_losses, label=\"Loss\", color=\"darkorange\", linewidth=3)\n",
    "ax1.plot(np.arange(len(smoothed_gradients)), smoothed_gradients, label=\"Loss\", color=\"red\", linewidth=3)\n",
    "ax1.set_ylabel(\"Loss\", fontsize=20)\n",
    "ax1.set_ylim([0, 1.1])\n",
    "ax2.bar(x, zeros, color=\"mintcream\", edgecolor=\"green\", width=40, zorder=1)\n",
    "ax2.set_ylabel(\"Percentage of Loss = 0\", fontsize=20)\n",
    "ax2.set_ylim([0, 1.1])\n",
    "ax1.set_xlabel(\"Steps\", fontsize=20)\n",
    "\n",
    "plt.title(\"Training\", fontsize=20)\n",
    "plt.show()"
   ]
  },
  {
   "cell_type": "code",
   "execution_count": null,
   "metadata": {},
   "outputs": [],
   "source": []
  }
 ],
 "metadata": {
  "interpreter": {
   "hash": "2cf3623e813e743b34a537dce808203b1d5a7ccdc5b4b856bee00716f9ba8761"
  },
  "kernelspec": {
   "display_name": "qml",
   "language": "python",
   "name": "qml"
  },
  "language_info": {
   "codemirror_mode": {
    "name": "ipython",
    "version": 3
   },
   "file_extension": ".py",
   "mimetype": "text/x-python",
   "name": "python",
   "nbconvert_exporter": "python",
   "pygments_lexer": "ipython3",
   "version": "3.8.10"
  }
 },
 "nbformat": 4,
 "nbformat_minor": 2
}
